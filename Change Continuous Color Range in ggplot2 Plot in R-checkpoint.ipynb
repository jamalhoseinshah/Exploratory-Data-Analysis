{
 "cells": [
  {
   "cell_type": "code",
   "execution_count": 1,
   "id": "65b397dc",
   "metadata": {},
   "outputs": [],
   "source": [
    "set.seed(568323)                                         # Generate continuous example data\n",
    "data <- data.frame(x = rnorm(500),\n",
    "                   y = rnorm(500))"
   ]
  },
  {
   "cell_type": "code",
   "execution_count": 2,
   "id": "4d0ed6fa",
   "metadata": {},
   "outputs": [
    {
     "data": {
      "text/html": [
       "<table>\n",
       "<thead><tr><th scope=col>x</th><th scope=col>y</th></tr></thead>\n",
       "<tbody>\n",
       "\t<tr><td>-0.3967727</td><td> 0.1874376</td></tr>\n",
       "\t<tr><td> 0.6463602</td><td> 0.5328366</td></tr>\n",
       "\t<tr><td>-0.1648974</td><td>-2.1026453</td></tr>\n",
       "\t<tr><td> 1.0923426</td><td>-0.9655662</td></tr>\n",
       "\t<tr><td> 0.5414653</td><td> 0.3619016</td></tr>\n",
       "\t<tr><td> 0.5296926</td><td> 0.3839891</td></tr>\n",
       "</tbody>\n",
       "</table>\n"
      ],
      "text/latex": [
       "\\begin{tabular}{r|ll}\n",
       " x & y\\\\\n",
       "\\hline\n",
       "\t -0.3967727 &  0.1874376\\\\\n",
       "\t  0.6463602 &  0.5328366\\\\\n",
       "\t -0.1648974 & -2.1026453\\\\\n",
       "\t  1.0923426 & -0.9655662\\\\\n",
       "\t  0.5414653 &  0.3619016\\\\\n",
       "\t  0.5296926 &  0.3839891\\\\\n",
       "\\end{tabular}\n"
      ],
      "text/markdown": [
       "\n",
       "| x | y |\n",
       "|---|---|\n",
       "| -0.3967727 |  0.1874376 |\n",
       "|  0.6463602 |  0.5328366 |\n",
       "| -0.1648974 | -2.1026453 |\n",
       "|  1.0923426 | -0.9655662 |\n",
       "|  0.5414653 |  0.3619016 |\n",
       "|  0.5296926 |  0.3839891 |\n",
       "\n"
      ],
      "text/plain": [
       "  x          y         \n",
       "1 -0.3967727  0.1874376\n",
       "2  0.6463602  0.5328366\n",
       "3 -0.1648974 -2.1026453\n",
       "4  1.0923426 -0.9655662\n",
       "5  0.5414653  0.3619016\n",
       "6  0.5296926  0.3839891"
      ]
     },
     "metadata": {},
     "output_type": "display_data"
    }
   ],
   "source": [
    "head(data)                                               # Print head of example data"
   ]
  },
  {
   "cell_type": "code",
   "execution_count": 3,
   "id": "5b09b6ed",
   "metadata": {},
   "outputs": [
    {
     "name": "stderr",
     "output_type": "stream",
     "text": [
      "also installing the dependency 'isoband'\n",
      "\n"
     ]
    },
    {
     "name": "stdout",
     "output_type": "stream",
     "text": [
      "\n",
      "  There are binary versions available but the source versions are later:\n",
      "        binary source needs_compilation\n",
      "isoband  0.2.4  0.2.5              TRUE\n",
      "ggplot2  3.3.3  3.3.6             FALSE\n",
      "\n",
      "  Binaries will be installed\n",
      "package 'isoband' successfully unpacked and MD5 sums checked\n",
      "\n",
      "The downloaded binary packages are in\n",
      "\tC:\\Users\\jamal\\AppData\\Local\\Temp\\RtmpYfFjq2\\downloaded_packages\n"
     ]
    },
    {
     "name": "stderr",
     "output_type": "stream",
     "text": [
      "installing the source package 'ggplot2'\n",
      "\n"
     ]
    }
   ],
   "source": [
    "install.packages(\"ggplot2\")                              # Install ggplot2 package"
   ]
  },
  {
   "cell_type": "code",
   "execution_count": 4,
   "id": "cddb3482",
   "metadata": {},
   "outputs": [],
   "source": [
    "library(\"ggplot2\")                                       # Load ggplot2"
   ]
  },
  {
   "cell_type": "code",
   "execution_count": 6,
   "id": "ed592517",
   "metadata": {},
   "outputs": [],
   "source": [
    "ggp <- ggplot(data, aes(x, y, color = y)) +              # ggplot2 plot with default legend\n",
    "  geom_point()"
   ]
  },
  {
   "cell_type": "code",
   "execution_count": 7,
   "id": "5262e13a",
   "metadata": {},
   "outputs": [
    {
     "data": {
      "image/png": "[encoded data removed]",
      "text/plain": [
       "plot without title"
      ]
     },
     "metadata": {},
     "output_type": "display_data"
    }
   ],
   "source": [
    "ggp                                                      # Draw ggplot2 scatterplot"
   ]
  },
  {
   "cell_type": "code",
   "execution_count": 8,
   "id": "e5ccb625",
   "metadata": {},
   "outputs": [],
   "source": [
    "#Set New Continuous Color Range in ggplot2 Plot Using colorRampPalette() & scale_colour_gradientn()"
   ]
  },
  {
   "cell_type": "code",
   "execution_count": 9,
   "id": "df3d3de7",
   "metadata": {},
   "outputs": [],
   "source": [
    "fun_color_range <- colorRampPalette(c(\"yellow\", \"red\"))  # Create color generating function"
   ]
  },
  {
   "cell_type": "code",
   "execution_count": 10,
   "id": "7548d2e9",
   "metadata": {},
   "outputs": [],
   "source": [
    "my_colors <- fun_color_range(20)                         # Generate color range"
   ]
  },
  {
   "cell_type": "code",
   "execution_count": 11,
   "id": "4e7ff33d",
   "metadata": {},
   "outputs": [
    {
     "data": {
      "text/html": [
       "<ol class=list-inline>\n",
       "\t<li>'#FFFF00'</li>\n",
       "\t<li>'#FFF100'</li>\n",
       "\t<li>'#FFE400'</li>\n",
       "\t<li>'#FFD600'</li>\n",
       "\t<li>'#FFC900'</li>\n",
       "\t<li>'#FFBB00'</li>\n",
       "\t<li>'#FFAE00'</li>\n",
       "\t<li>'#FFA100'</li>\n",
       "\t<li>'#FF9300'</li>\n",
       "\t<li>'#FF8600'</li>\n",
       "\t<li>'#FF7800'</li>\n",
       "\t<li>'#FF6B00'</li>\n",
       "\t<li>'#FF5D00'</li>\n",
       "\t<li>'#FF5000'</li>\n",
       "\t<li>'#FF4300'</li>\n",
       "\t<li>'#FF3500'</li>\n",
       "\t<li>'#FF2800'</li>\n",
       "\t<li>'#FF1A00'</li>\n",
       "\t<li>'#FF0D00'</li>\n",
       "\t<li>'#FF0000'</li>\n",
       "</ol>\n"
      ],
      "text/latex": [
       "\\begin{enumerate*}\n",
       "\\item '\\#FFFF00'\n",
       "\\item '\\#FFF100'\n",
       "\\item '\\#FFE400'\n",
       "\\item '\\#FFD600'\n",
       "\\item '\\#FFC900'\n",
       "\\item '\\#FFBB00'\n",
       "\\item '\\#FFAE00'\n",
       "\\item '\\#FFA100'\n",
       "\\item '\\#FF9300'\n",
       "\\item '\\#FF8600'\n",
       "\\item '\\#FF7800'\n",
       "\\item '\\#FF6B00'\n",
       "\\item '\\#FF5D00'\n",
       "\\item '\\#FF5000'\n",
       "\\item '\\#FF4300'\n",
       "\\item '\\#FF3500'\n",
       "\\item '\\#FF2800'\n",
       "\\item '\\#FF1A00'\n",
       "\\item '\\#FF0D00'\n",
       "\\item '\\#FF0000'\n",
       "\\end{enumerate*}\n"
      ],
      "text/markdown": [
       "1. '#FFFF00'\n",
       "2. '#FFF100'\n",
       "3. '#FFE400'\n",
       "4. '#FFD600'\n",
       "5. '#FFC900'\n",
       "6. '#FFBB00'\n",
       "7. '#FFAE00'\n",
       "8. '#FFA100'\n",
       "9. '#FF9300'\n",
       "10. '#FF8600'\n",
       "11. '#FF7800'\n",
       "12. '#FF6B00'\n",
       "13. '#FF5D00'\n",
       "14. '#FF5000'\n",
       "15. '#FF4300'\n",
       "16. '#FF3500'\n",
       "17. '#FF2800'\n",
       "18. '#FF1A00'\n",
       "19. '#FF0D00'\n",
       "20. '#FF0000'\n",
       "\n",
       "\n"
      ],
      "text/plain": [
       " [1] \"#FFFF00\" \"#FFF100\" \"#FFE400\" \"#FFD600\" \"#FFC900\" \"#FFBB00\" \"#FFAE00\"\n",
       " [8] \"#FFA100\" \"#FF9300\" \"#FF8600\" \"#FF7800\" \"#FF6B00\" \"#FF5D00\" \"#FF5000\"\n",
       "[15] \"#FF4300\" \"#FF3500\" \"#FF2800\" \"#FF1A00\" \"#FF0D00\" \"#FF0000\""
      ]
     },
     "metadata": {},
     "output_type": "display_data"
    }
   ],
   "source": [
    "my_colors                                                # Print color range"
   ]
  },
  {
   "cell_type": "code",
   "execution_count": 12,
   "id": "dd198376",
   "metadata": {},
   "outputs": [
    {
     "data": {
      "image/png": "[encoded data removed]",
      "text/plain": [
       "plot without title"
      ]
     },
     "metadata": {},
     "output_type": "display_data"
    }
   ],
   "source": [
    "ggp +                                                    # Change colors in ggplot2 plot\n",
    "  scale_colour_gradientn(colors = my_colors)"
   ]
  },
  {
   "cell_type": "code",
   "execution_count": null,
   "id": "037e1488",
   "metadata": {},
   "outputs": [],
   "source": []
  }
 ],
 "metadata": {
  "kernelspec": {
   "display_name": "R",
   "language": "R",
   "name": "ir"
  },
  "language_info": {
   "codemirror_mode": "r",
   "file_extension": ".r",
   "mimetype": "text/x-r-source",
   "name": "R",
   "pygments_lexer": "r",
   "version": "3.6.1"
  }
 },
 "nbformat": 4,
 "nbformat_minor": 5
}
